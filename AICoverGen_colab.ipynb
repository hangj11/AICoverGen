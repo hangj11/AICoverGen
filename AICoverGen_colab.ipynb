{
  "cells": [
    {
      "cell_type": "markdown",
      "metadata": {
        "id": "view-in-github",
        "colab_type": "text"
      },
      "source": [
        "<a href=\"https://colab.research.google.com/github/hangj11/AICoverGen/blob/main/AICoverGen_colab.ipynb\" target=\"_parent\"><img src=\"https://colab.research.google.com/assets/colab-badge.svg\" alt=\"Open In Colab\"/></a>"
      ]
    },
    {
      "cell_type": "markdown",
      "metadata": {
        "id": "39k2mOCNAh6J"
      },
      "source": [
        "[![Open In Colab](https://colab.research.google.com/assets/colab-badge.svg)](https://colab.research.google.com/github/SociallyIneptWeeb/AICoverGen/blob/main/AICoverGen_colab.ipynb)"
      ]
    },
    {
      "cell_type": "markdown",
      "source": [
        "# AICoverGen WebUI\n",
        "\n",
        "Simply click `Runtime` in the top navigation bar and `Run all`. Wait for the output of the final cell to show the public gradio url and click on it."
      ],
      "metadata": {
        "id": "YYVAKuNBc-X4"
      }
    },
    {
      "cell_type": "code",
      "execution_count": 3,
      "metadata": {
        "id": "vC4gLMHI9xb3",
        "cellView": "form",
        "outputId": "604b2e61-fba7-4287-d1a0-a56b93a1cf3c",
        "colab": {
          "base_uri": "https://localhost:8080/"
        }
      },
      "outputs": [
        {
          "output_type": "stream",
          "name": "stdout",
          "text": [
            "Done Cloning Repository\n"
          ]
        }
      ],
      "source": [
        "#@title Clone repository\n",
        "from IPython.display import clear_output, Javascript\n",
        "import codecs\n",
        "import threading\n",
        "import time\n",
        "cloneing=codecs.decode('uggcf://tvguho.pbz/FbpvnyylVarcgJrro/NVPbireTra.tvg','rot_13')\n",
        "!git clone $cloneing HRVC\n",
        "def update_timer_and_print():\n",
        "    global timer\n",
        "    while True:\n",
        "        hours, remainder = divmod(timer, 3600)\n",
        "        minutes, seconds = divmod(remainder, 60)\n",
        "        timer_str = f'{hours:02}:{minutes:02}:{seconds:02}'\n",
        "        print(f'\\rTimer: {timer_str}', end='', flush=True)  # Print without a newline\n",
        "        time.sleep(1)\n",
        "        timer += 1\n",
        "timer = 0\n",
        "threading.Thread(target=update_timer_and_print, daemon=True).start()\n",
        "%cd HRVC\n",
        "clear_output()\n",
        "print(\"Done Cloning Repository\")"
      ]
    },
    {
      "cell_type": "code",
      "source": [
        "from google.colab import drive\n",
        "drive.mount('/content/drive')"
      ],
      "metadata": {
        "id": "AjVAlp7oP0nI",
        "outputId": "20c79710-ae7e-4612-c6b8-d40e7acad962",
        "colab": {
          "base_uri": "https://localhost:8080/"
        }
      },
      "execution_count": 4,
      "outputs": [
        {
          "output_type": "stream",
          "name": "stdout",
          "text": [
            "Timer: 00:00:03Drive already mounted at /content/drive; to attempt to forcibly remount, call drive.mount(\"/content/drive\", force_remount=True).\n"
          ]
        }
      ]
    },
    {
      "cell_type": "code",
      "execution_count": 5,
      "metadata": {
        "cellView": "form",
        "id": "odzpJHpr_PaF",
        "outputId": "aaaaa0da-a6f1-4a3e-e1cb-84114040d41d",
        "colab": {
          "base_uri": "https://localhost:8080/"
        }
      },
      "outputs": [
        {
          "output_type": "stream",
          "name": "stdout",
          "text": [
            "Finished running this cell, proceed to the next cell\n"
          ]
        }
      ],
      "source": [
        "#@title Install requirements\n",
        "!pip install pip==23.3.1\n",
        "!pip install -q -r requirements.txt\n",
        "!pip install gradio-client==0.8.1\n",
        "!pip install gradio==3.48.0\n",
        "# install cuda fix\n",
        "!python -m pip install ort-nightly-gpu --index-url=https://aiinfra.pkgs.visualstudio.com/PublicPackages/_packaging/ort-cuda-12-nightly/pypi/simple/\n",
        "clear_output()\n",
        "print(\"Finished Installing Requirements\")\n",
        "!sudo apt update\n",
        "clear_output()\n",
        "print(\"Finished Updating\")\n",
        "!sudo apt install sox\n",
        "clear_output()\n",
        "print(\"Finished running this cell, proceed to the next cell\")"
      ]
    },
    {
      "cell_type": "code",
      "execution_count": 6,
      "metadata": {
        "cellView": "form",
        "id": "SLWpcJc0AHSZ",
        "outputId": "98399a25-1740-41c2-e7e0-0356c4b51ef5",
        "colab": {
          "base_uri": "https://localhost:8080/"
        }
      },
      "outputs": [
        {
          "output_type": "stream",
          "name": "stdout",
          "text": [
            "Finished Downloading Voice Separation Model and Hubert Base Model\n"
          ]
        }
      ],
      "source": [
        "#@title Download MDXNet Vocal Separation and Hubert Base Models\n",
        "models=codecs.decode('fep/qbjaybnq_zbqryf.cl','rot_13')\n",
        "!python $models\n",
        "clear_output()\n",
        "print(\"Finished Downloading Voice Separation Model and Hubert Base Model\")"
      ]
    },
    {
      "cell_type": "code",
      "source": [
        "#@title Run WebUI\n",
        "runpice=codecs.decode('fep/jrohv.cl','rot_13')\n",
        "!python $runpice --share"
      ],
      "metadata": {
        "cellView": "form",
        "id": "NEglTq6Ya9d0",
        "outputId": "997a047a-b045-4930-f6a1-a3ea7783e51b",
        "colab": {
          "base_uri": "https://localhost:8080/"
        }
      },
      "execution_count": 7,
      "outputs": [
        {
          "output_type": "stream",
          "name": "stdout",
          "text": [
            "Timer: 00:16:022024-12-07 13:20:15.891627: E external/local_xla/xla/stream_executor/cuda/cuda_fft.cc:485] Unable to register cuFFT factory: Attempting to register factory for plugin cuFFT when one has already been registered\n",
            "2024-12-07 13:20:15.914908: E external/local_xla/xla/stream_executor/cuda/cuda_dnn.cc:8454] Unable to register cuDNN factory: Attempting to register factory for plugin cuDNN when one has already been registered\n",
            "2024-12-07 13:20:15.923176: E external/local_xla/xla/stream_executor/cuda/cuda_blas.cc:1452] Unable to register cuBLAS factory: Attempting to register factory for plugin cuBLAS when one has already been registered\n",
            "2024-12-07 13:20:15.940130: I tensorflow/core/platform/cpu_feature_guard.cc:210] This TensorFlow binary is optimized to use available CPU instructions in performance-critical operations.\n",
            "To enable the following instructions: AVX2 FMA, in other operations, rebuild TensorFlow with the appropriate compiler flags.\n",
            "Timer: 00:16:042024-12-07 13:20:17.609245: W tensorflow/compiler/tf2tensorrt/utils/py_utils.cc:38] TF-TRT Warning: Could not find TensorRT\n",
            "Timer: 00:16:102024-12-07 13:20:20 | INFO | fairseq.tasks.text_to_speech | Please install tensorboardX: pip install tensorboardX\n",
            "Timer: 00:16:122024-12-07 13:20:20 | INFO | faiss.loader | Loading faiss with AVX2 support.\n",
            "2024-12-07 13:20:20 | INFO | faiss.loader | Successfully loaded faiss with AVX2 support.\n",
            "IMPORTANT: You are using gradio version 3.48.0, however version 4.44.1 is available, please upgrade.\n",
            "--------\n",
            "Running on local URL:  http://127.0.0.1:7860\n",
            "Timer: 00:16:14Running on public URL: https://6dae54ed99a8d9ff57.gradio.live\n",
            "\n",
            "This share link expires in 72 hours. For free permanent hosting and GPU upgrades, run `gradio deploy` from Terminal to deploy to Spaces (https://huggingface.co/spaces)\n",
            "Timer: 00:35:10Keyboard interruption in main thread... closing server.\n",
            "Traceback (most recent call last):\n",
            "  File \"/usr/local/lib/python3.10/dist-packages/gradio/blocks.py\", line 2361, in block_thread\n",
            "    time.sleep(0.1)\n",
            "KeyboardInterrupt\n",
            "\n",
            "During handling of the above exception, another exception occurred:\n",
            "\n",
            "Traceback (most recent call last):\n",
            "  File \"/content/HRVC/HRVC/src/webui.py\", line 317, in <module>\n",
            "    app.launch(\n",
            "  File \"/usr/local/lib/python3.10/dist-packages/gradio/blocks.py\", line 2266, in launch\n",
            "    self.block_thread()\n",
            "  File \"/usr/local/lib/python3.10/dist-packages/gradio/blocks.py\", line 2365, in block_thread\n",
            "    self.server.close()\n",
            "  File \"/usr/local/lib/python3.10/dist-packages/gradio/networking.py\", line 75, in close\n",
            "    self.thread.join()\n",
            "  File \"/usr/lib/python3.10/threading.py\", line 1096, in join\n",
            "    self._wait_for_tstate_lock()\n",
            "  File \"/usr/lib/python3.10/threading.py\", line 1116, in _wait_for_tstate_lock\n",
            "    if lock.acquire(block, timeout):\n",
            "KeyboardInterrupt\n",
            "Killing tunnel 127.0.0.1:7860 <> https://6dae54ed99a8d9ff57.gradio.live\n",
            "Timer: 00:35:14^C\n"
          ]
        }
      ]
    }
  ],
  "metadata": {
    "accelerator": "GPU",
    "colab": {
      "provenance": [],
      "include_colab_link": true
    },
    "kernelspec": {
      "display_name": "Python 3",
      "name": "python3"
    },
    "language_info": {
      "name": "python"
    }
  },
  "nbformat": 4,
  "nbformat_minor": 0
}